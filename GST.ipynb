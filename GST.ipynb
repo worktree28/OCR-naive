{
 "cells": [
  {
   "cell_type": "code",
   "execution_count": 76,
   "metadata": {},
   "outputs": [
    {
     "name": "stdout",
     "output_type": "stream",
     "text": [
      "Goods & Services Tax (GST) | Services\n"
     ]
    }
   ],
   "source": [
    "from selenium import webdriver\n",
    "from selenium.webdriver.common.desired_capabilities import DesiredCapabilities    \n",
    "import re\n",
    "\n",
    "driver = webdriver.Chrome(executable_path='drivers/chromedriver')\n",
    "\n",
    "\n",
    "# Navigate to page\n",
    "driver.get('https://services.gst.gov.in/services/searchtp')\n",
    "print(driver.title)\n",
    "# Manual enter captcha "
   ]
  },
  {
   "cell_type": "code",
   "execution_count": 77,
   "metadata": {},
   "outputs": [
    {
     "name": "stdout",
     "output_type": "stream",
     "text": [
      "<selenium.webdriver.remote.webelement.WebElement (session=\"b964305ea55aeef4438219622e010ad7\", element=\"7c9cbbd6-330e-4f42-92e6-cc29dce3f478\")>\n"
     ]
    }
   ],
   "source": [
    "element = driver.find_element_by_id(\"filingTable\")\n",
    "print(element)\n"
   ]
  },
  {
   "cell_type": "code",
   "execution_count": 78,
   "metadata": {},
   "outputs": [],
   "source": [
    "element.click()"
   ]
  },
  {
   "cell_type": "code",
   "execution_count": 79,
   "metadata": {},
   "outputs": [
    {
     "name": "stdout",
     "output_type": "stream",
     "text": [
      "[<selenium.webdriver.remote.webelement.WebElement (session=\"b964305ea55aeef4438219622e010ad7\", element=\"6a6200a8-956e-4993-b87a-6bc053627c67\")>, <selenium.webdriver.remote.webelement.WebElement (session=\"b964305ea55aeef4438219622e010ad7\", element=\"ea103264-c0cd-4196-b643-58ee802eaa14\")>, <selenium.webdriver.remote.webelement.WebElement (session=\"b964305ea55aeef4438219622e010ad7\", element=\"501f8caf-b233-4ee4-b78b-4f5c5dabd908\")>, <selenium.webdriver.remote.webelement.WebElement (session=\"b964305ea55aeef4438219622e010ad7\", element=\"da684afd-1cdc-4d5c-bc8e-a44e62ce7c9b\")>, <selenium.webdriver.remote.webelement.WebElement (session=\"b964305ea55aeef4438219622e010ad7\", element=\"960b9854-3e9b-4a1d-886e-924513dcfa2e\")>]\n"
     ]
    }
   ],
   "source": [
    "login_form = driver.find_elements_by_class_name('table-responsive')\n",
    "print(login_form)"
   ]
  },
  {
   "cell_type": "code",
   "execution_count": 80,
   "metadata": {},
   "outputs": [
    {
     "name": "stdout",
     "output_type": "stream",
     "text": [
      "Dealing In Goods and Services\n",
      "Goods Services\n",
      "HSN Description HSN Description\n",
      "74071010 COPPER BARS, RODS AND PROFILES - OF REFINED COPPER :ELECTROLYTIC COPPER RODS OR BLACK COPPER RODS\n",
      "74040011 COPPER WASTE AND SCRAP - COPPER WASTE AND SCRAP: OF COPPER : EMPTY OR DISCHARGED CARTRIDGES OF ALL BORES AND SIZES\n",
      "74091100 COPPER PLATES, SHEETS AND STRIP, OF A THICKNESS EXCEEDING 0.15 MM - OF REFINED COPPER IN COILS\n",
      "74031100 REFINED COPPER AND COPPER ALLOYS, UNWROUGHT - REFINED COPPER : CATHODES AND SECTIONS OF CATHODES\n",
      "HSN: Harmonized System of Nomenclature of Goods and Services []\n",
      "Filing details for GSTR3B\n",
      "Financial Year\n",
      "Tax Period\n",
      "Date of filing\n",
      "Status\n",
      "2021-2022 June 22/07/2021 Filed\n",
      "2021-2022 May 22/06/2021 Filed\n",
      "2021-2022 April 05/06/2021 Filed\n",
      "2020-2021 March 20/04/2021 Filed\n",
      "2020-2021 February 18/03/2021 Filed\n",
      "2020-2021 January 16/02/2021 Filed\n",
      "2020-2021 December 19/01/2021 Filed\n",
      "2020-2021 November 20/12/2020 Filed\n",
      "2020-2021 October 19/11/2020 Filed\n",
      "2020-2021 September 22/10/2020 Filed []\n",
      "Filing details for GSTR-1/IFF\n",
      "Financial Year\n",
      "Tax Period\n",
      "Date of filing\n",
      "Status\n",
      "2021-2022 June 14/07/2021 Filed\n",
      "2021-2022 May 11/06/2021 Filed\n",
      "2021-2022 April 11/05/2021 Filed\n",
      "2020-2021 March 09/04/2021 Filed\n",
      "2020-2021 February 10/03/2021 Filed\n",
      "2020-2021 January 10/02/2021 Filed\n",
      "2020-2021 December 15/01/2021 Filed\n",
      "2020-2021 November 12/12/2020 Filed\n",
      "2020-2021 October 11/11/2020 Filed\n",
      "2020-2021 September 12/10/2020 Filed []\n",
      "Filing details for GSTR9\n",
      "Financial Year\n",
      "Tax Period\n",
      "Date of filing\n",
      "Status\n",
      "2019-2020 Annual 26/03/2021 Filed\n",
      "2018-2019 Annual 26/12/2020 Filed\n",
      "2017-2018 Annual 05/02/2020 Filed []\n",
      "Filing details for GSTR9C\n",
      "Financial Year\n",
      "Tax Period\n",
      "Date of filing\n",
      "Status\n",
      "2019-2020 Annual 26/03/2021 Filed\n",
      "2018-2019 Annual 29/12/2020 Filed\n",
      "2017-2018 Annual 05/02/2020 Filed []\n"
     ]
    }
   ],
   "source": [
    "for e in login_form:\n",
    "    print(e.text, '[]')\n",
    "    "
   ]
  },
  {
   "cell_type": "code",
   "execution_count": 133,
   "metadata": {},
   "outputs": [],
   "source": [
    "p = re.compile('.(GSTR3B)+')\n",
    "p2 = re.compile('.(GSTR-1)+')\n",
    "\n",
    "d = re.compile('([0-9]+)-([0-9]+)')"
   ]
  },
  {
   "cell_type": "code",
   "execution_count": 134,
   "metadata": {},
   "outputs": [
    {
     "name": "stdout",
     "output_type": "stream",
     "text": [
      "['2021-2022', '2021-2022', '2021-2022', '2020-2021', '2020-2021', '2020-2021', '2020-2021', '2020-2021', '2020-2021', '2020-2021'] ['June', 'May', 'April', 'March', 'February', 'January', 'December', 'November', 'October', 'September'] ['22/07/2021', '22/06/2021', '05/06/2021', '20/04/2021', '18/03/2021', '16/02/2021', '19/01/2021', '20/12/2020', '19/11/2020', '22/10/2020'] ['Filed', 'Filed', 'Filed', 'Filed', 'Filed', 'Filed', 'Filed', 'Filed', 'Filed', 'Filed']\n"
     ]
    }
   ],
   "source": [
    "count=1\n",
    "year=[]\n",
    "month=[] \n",
    "date=[] \n",
    "fill=[]\n",
    "flag=0\n",
    "rep=1\n",
    "for e in login_form:\n",
    "    if(p.search(e.text)):\n",
    "        for word in e.text.split():\n",
    "            if(d.match(word)):\n",
    "                flag=1\n",
    "                year.append(word)\n",
    "                continue\n",
    "            if(flag==1):\n",
    "                if(rep==1):\n",
    "                    month.append(word)\n",
    "                if(rep==2):\n",
    "                    date.append(word)\n",
    "                if(rep==3):\n",
    "                    fill.append(word)\n",
    "                rep=rep+1\n",
    "            if(rep==4):\n",
    "                flag=0\n",
    "                rep=1\n",
    "print(\"GSTR3B\"year,month,date,fill)"
   ]
  },
  {
   "cell_type": "code",
   "execution_count": 137,
   "metadata": {},
   "outputs": [
    {
     "name": "stdout",
     "output_type": "stream",
     "text": [
      "GSTR1\n",
      " ['2021-2022', '2021-2022', '2021-2022', '2020-2021', '2020-2021', '2020-2021', '2020-2021', '2020-2021', '2020-2021', '2020-2021'] ['June', 'May', 'April', 'March', 'February', 'January', 'December', 'November', 'October', 'September'] ['14/07/2021', '11/06/2021', '11/05/2021', '09/04/2021', '10/03/2021', '10/02/2021', '15/01/2021', '12/12/2020', '11/11/2020', '12/10/2020'] ['Filed', 'Filed', 'Filed', 'Filed', 'Filed', 'Filed', 'Filed', 'Filed', 'Filed', 'Filed']\n"
     ]
    }
   ],
   "source": [
    "count=1\n",
    "year=[]\n",
    "month=[] \n",
    "date=[] \n",
    "fill=[]\n",
    "flag=0\n",
    "rep=1\n",
    "for e in login_form:\n",
    "    if(p2.search(e.text)):\n",
    "        for word in e.text.split():\n",
    "            if(d.match(word)):\n",
    "                flag=1\n",
    "                year.append(word)\n",
    "                continue\n",
    "            if(flag==1):\n",
    "                if(rep==1):\n",
    "                    month.append(word)\n",
    "                if(rep==2):\n",
    "                    date.append(word)\n",
    "                if(rep==3):\n",
    "                    fill.append(word)\n",
    "                rep=rep+1\n",
    "            if(rep==4):\n",
    "                flag=0\n",
    "                rep=1\n",
    "print(\"GSTR1\\n\",year,month,date,fill)"
   ]
  },
  {
   "cell_type": "markdown",
   "metadata": {},
   "source": []
  }
 ],
 "metadata": {
  "kernelspec": {
   "display_name": "Python 3",
   "language": "python",
   "name": "python3"
  },
  "language_info": {
   "codemirror_mode": {
    "name": "ipython",
    "version": 3
   },
   "file_extension": ".py",
   "mimetype": "text/x-python",
   "name": "python",
   "nbconvert_exporter": "python",
   "pygments_lexer": "ipython3",
   "version": "3.7.6"
  }
 },
 "nbformat": 4,
 "nbformat_minor": 4
}
